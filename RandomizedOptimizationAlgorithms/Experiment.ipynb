{
 "cells": [
  {
   "cell_type": "markdown",
   "metadata": {
    "deletable": true,
    "editable": true
   },
   "source": [
    "# Randomized Optimization Algorithms"
   ]
  },
  {
   "cell_type": "code",
   "execution_count": 3,
   "metadata": {
    "collapsed": true,
    "deletable": true,
    "editable": true
   },
   "outputs": [],
   "source": [
    " # set up Python environment: numpy for numerical routines, and matplotlib for plotting\n",
    "import os, sys\n",
    "import numpy as np\n",
    "import matplotlib.pyplot as plt\n",
    "# display plots in this notebook\n",
    "%matplotlib inline\n",
    "\n",
    "# set display defaults\n",
    "plt.rcParams['figure.figsize'] = (10, 10)        # large images\n",
    "plt.rcParams['image.interpolation'] = 'nearest'  # don't interpolate: show square pixels"
   ]
  },
  {
   "cell_type": "markdown",
   "metadata": {},
   "source": [
    "## AIMA python helper functions\n",
    "Adapted from: AIMA python repository. https://github.com/aimacode/aima-python."
   ]
  },
  {
   "cell_type": "code",
   "execution_count": 4,
   "metadata": {
    "collapsed": false,
    "deletable": true,
    "editable": true
   },
   "outputs": [],
   "source": [
    "import random\n",
    "import math\n",
    "import bisect\n",
    "\n",
    "identity = lambda x: x\n",
    "argmin = min\n",
    "argmax = max\n",
    "\n",
    "def argmin_random_tie(seq, key=identity):\n",
    "    \"\"\"Return a minimum element of seq; break ties at random.\"\"\"\n",
    "    return argmin(shuffled(seq), key=key)\n",
    "\n",
    "\n",
    "def argmax_random_tie(seq, key=identity):\n",
    "    \"Return an element with highest fn(seq[i]) score; break ties at random.\"\n",
    "    return argmax(shuffled(seq), key=key)\n",
    "\n",
    "def shuffled(iterable):\n",
    "    \"Randomly shuffle a copy of iterable.\"\n",
    "    items = list(iterable)\n",
    "    random.shuffle(items)\n",
    "    return items\n",
    "\n",
    "def probability(p):\n",
    "    \"Return true with probability p.\"\n",
    "    return p > random.uniform(0.0, 1.0)\n",
    "\n",
    "\n",
    "def weighted_sample_with_replacement(seq, weights, n):\n",
    "    \"\"\"Pick n samples from seq at random, with replacement, with the\n",
    "    probability of each element in proportion to its corresponding\n",
    "    weight.\"\"\"\n",
    "    sample = weighted_sampler(seq, weights)\n",
    "\n",
    "    return [sample() for _ in range(n)]\n",
    "\n",
    "def weighted_sampler(seq, weights):\n",
    "    \"Return a random-sample function that picks from seq weighted by weights.\"\n",
    "    totals = []\n",
    "    for w in weights:\n",
    "        totals.append(w + totals[-1] if totals else w)\n",
    "\n",
    "    return lambda: seq[bisect.bisect(totals, random.uniform(0, totals[-1]))]"
   ]
  },
  {
   "cell_type": "code",
   "execution_count": 5,
   "metadata": {
    "collapsed": true,
    "deletable": true,
    "editable": true
   },
   "outputs": [],
   "source": [
    "class Problem(object):\n",
    "\n",
    "    \"\"\"The abstract class for a formal problem.  You should subclass\n",
    "    this and implement the methods actions and result, and possibly\n",
    "    __init__, goal_test, and path_cost. Then you will create instances\n",
    "    of your subclass and solve them with the various search functions.\"\"\"\n",
    "\n",
    "    def __init__(self, initial, goal=None):\n",
    "        \"\"\"The constructor specifies the initial state, and possibly a goal\n",
    "        state, if there is a unique goal.  Your subclass's constructor can add\n",
    "        other arguments.\"\"\"\n",
    "        self.initial = initial\n",
    "        self.goal = goal\n",
    "\n",
    "    def actions(self, state):\n",
    "        \"\"\"Return the actions that can be executed in the given\n",
    "        state. The result would typically be a list, but if there are\n",
    "        many actions, consider yielding them one at a time in an\n",
    "        iterator, rather than building them all at once.\"\"\"\n",
    "        raise NotImplementedError\n",
    "\n",
    "    def result(self, state, action):\n",
    "        \"\"\"Return the state that results from executing the given\n",
    "        action in the given state. The action must be one of\n",
    "        self.actions(state).\"\"\"\n",
    "        raise NotImplementedError\n",
    "\n",
    "    def goal_test(self, state):\n",
    "        \"\"\"Return True if the state is a goal. The default method compares the\n",
    "        state to self.goal or checks for state in self.goal if it is a\n",
    "        list, as specified in the constructor. Override this method if\n",
    "        checking against a single self.goal is not enough.\"\"\"\n",
    "        if isinstance(self.goal, list):\n",
    "            return is_in(state, self.goal)\n",
    "        else:\n",
    "            return state == self.goal\n",
    "\n",
    "    def path_cost(self, c, state1, action, state2):\n",
    "        \"\"\"Return the cost of a solution path that arrives at state2 from\n",
    "        state1 via action, assuming cost c to get up to state1. If the problem\n",
    "        is such that the path doesn't matter, this function will only look at\n",
    "        state2.  If the path does matter, it will consider c and maybe state1\n",
    "        and action. The default method costs 1 for every step in the path.\"\"\"\n",
    "        return c + 1\n",
    "\n",
    "    def value(self, state):\n",
    "        \"\"\"For optimization problems, each state has a value.  Hill-climbing\n",
    "        and related algorithms try to maximize this value.\"\"\"\n",
    "        raise NotImplementedError\n",
    "        \n",
    "        \n",
    "class Node:\n",
    "\n",
    "    \"\"\"A node in a search tree. Contains a pointer to the parent (the node\n",
    "    that this is a successor of) and to the actual state for this node. Note\n",
    "    that if a state is arrived at by two paths, then there are two nodes with\n",
    "    the same state.  Also includes the action that got us to this state, and\n",
    "    the total path_cost (also known as g) to reach the node.  Other functions\n",
    "    may add an f and h value; see best_first_graph_search and astar_search for\n",
    "    an explanation of how the f and h values are handled. You will not need to\n",
    "    subclass this class.\"\"\"\n",
    "\n",
    "    def __init__(self, state, parent=None, action=None, path_cost=0):\n",
    "        \"Create a search tree Node, derived from a parent by an action.\"\n",
    "        self.state = state\n",
    "        self.parent = parent\n",
    "        self.action = action\n",
    "        self.path_cost = path_cost\n",
    "        self.depth = 0\n",
    "        if parent:\n",
    "            self.depth = parent.depth + 1\n",
    "\n",
    "    def __repr__(self):\n",
    "        return \"<Node %s>\" % (self.state,)\n",
    "\n",
    "    def __lt__(self, node):\n",
    "        return self.state < node.state\n",
    "\n",
    "    def expand(self, problem):\n",
    "        \"List the nodes reachable in one step from this node.\"\n",
    "        return [self.child_node(problem, action)\n",
    "                for action in problem.actions(self.state)]\n",
    "\n",
    "    def child_node(self, problem, action):\n",
    "        \"[Figure 3.10]\"\n",
    "        next = problem.result(self.state, action)\n",
    "        return Node(next, self, action,\n",
    "                    problem.path_cost(self.path_cost, self.state,\n",
    "                                      action, next))\n",
    "\n",
    "    def solution(self):\n",
    "        \"Return the sequence of actions to go from the root to this node.\"\n",
    "        return [node.action for node in self.path()[1:]]\n",
    "\n",
    "    def path(self):\n",
    "        \"Return a list of nodes forming the path from the root to this node.\"\n",
    "        node, path_back = self, []\n",
    "        while node:\n",
    "            path_back.append(node)\n",
    "            node = node.parent\n",
    "        return list(reversed(path_back))\n",
    "\n",
    "    # We want for a queue of nodes in breadth_first_search or\n",
    "    # astar_search to have no duplicated states, so we treat nodes\n",
    "    # with the same state as equal. [Problem: this may not be what you\n",
    "    # want in other contexts.]\n",
    "\n",
    "    def __eq__(self, other):\n",
    "        return isinstance(other, Node) and self.state == other.state\n",
    "\n",
    "    def __hash__(self):\n",
    "        return hash(self.state)"
   ]
  },
  {
   "cell_type": "markdown",
   "metadata": {},
   "source": [
    "## Problem: Maximize Ones"
   ]
  },
  {
   "cell_type": "code",
   "execution_count": 6,
   "metadata": {
    "collapsed": false,
    "deletable": true,
    "editable": true
   },
   "outputs": [],
   "source": [
    "class MaximizeOnes(Problem):\n",
    "    def __init__(self, initial):\n",
    "        \"\"\"initial state is a numpy array with each element representing a bit 0 or 1, \n",
    "        goal state is same size as initial state with all bits turned 1\"\"\"\n",
    "        assert sum([n != 0 and n != 1 for n in initial]) == 0, \"initial state must contain binary values.\"\n",
    "        self.initial = initial\n",
    "        self.goal = np.ones((len(self.initial)))\n",
    "        \n",
    "    def actions(self, state):\n",
    "        \"\"\"Return all locations for hamming distance 1\"\"\"\n",
    "        return np.arange(len(state))\n",
    "    \n",
    "    def result(self, state, action):\n",
    "        \"\"\"Return state bit at location specified by action\"\"\"\n",
    "        state = state.copy()\n",
    "        state[action] = 1 - state[action] # toggle\n",
    "        return state\n",
    "    \n",
    "    def value(self, state):\n",
    "        \"\"\"Return sum of all the elements\"\"\"\n",
    "        return sum(state)\n",
    "    \n",
    "    def random_states(self, count=10):\n",
    "        return np.random.randint(0, 2, size=(count, len(self.initial)))"
   ]
  },
  {
   "cell_type": "markdown",
   "metadata": {},
   "source": [
    "## Problem: FlipFlop"
   ]
  },
  {
   "cell_type": "code",
   "execution_count": 7,
   "metadata": {
    "collapsed": true,
    "deletable": true,
    "editable": true
   },
   "outputs": [],
   "source": [
    "class MaximizeAlternations(Problem):\n",
    "    def __init__(self, initial):\n",
    "        \"\"\"initial state is a numpy array with each element representing a bit 0 or 1, \n",
    "        goal state is same size as initial state with all bits turned 1\"\"\"\n",
    "        assert sum([n != 0 and n != 1 for n in initial]) == 0, \"initial state must contain binary values.\"\n",
    "        self.initial = initial\n",
    "        self.goal = np.ones((len(self.initial)))\n",
    "        \n",
    "    def actions(self, state):\n",
    "        \"\"\"Return all locations for hamming distance 1\"\"\"\n",
    "        return np.arange(len(state))\n",
    "    \n",
    "    def result(self, state, action):\n",
    "        \"\"\"Return state bit at location specified by action\"\"\"\n",
    "        state = state.copy()\n",
    "        state[action] = 1 - state[action] # toggle\n",
    "        return state\n",
    "    \n",
    "    def value(self, state):\n",
    "        \"\"\"Return sum of all the elements\"\"\"\n",
    "        return sum([state[i] != state[i+1] for i in range(len(state)-1)]) + 1\n",
    "    \n",
    "    def random_states(self, count=10):\n",
    "        return np.random.randint(0, 2, size=(count, len(self.initial)))"
   ]
  },
  {
   "cell_type": "code",
   "execution_count": null,
   "metadata": {
    "collapsed": true
   },
   "outputs": [],
   "source": []
  },
  {
   "cell_type": "markdown",
   "metadata": {},
   "source": [
    "## Hill Climbing"
   ]
  },
  {
   "cell_type": "code",
   "execution_count": 8,
   "metadata": {
    "collapsed": false,
    "deletable": true,
    "editable": true
   },
   "outputs": [],
   "source": [
    "# Adapted from: AIMA python repository.\n",
    "def hill_climbing(init_node, problem, n_sideway_moves=50):\n",
    "    \"\"\"From the initial node, keep choosing the neighbor with highest value,\n",
    "    stopping when no neighbor is better. [Figure 4.2]\"\"\"\n",
    "    \n",
    "    current = init_node\n",
    "    current_value = problem.value(current.state)\n",
    "    no_improvement = 0\n",
    "    \n",
    "    while True:\n",
    "        \n",
    "        # get neighbor states\n",
    "        neighbors = current.expand(problem)\n",
    "        \n",
    "        # can happen\n",
    "        if not neighbors:\n",
    "            break\n",
    "        \n",
    "        # select the neighbor greedily \n",
    "        best_neighbor = argmax_random_tie(neighbors, key=lambda node: problem.value(node.state))\n",
    "        best_neighbor_value = problem.value(best_neighbor.state)\n",
    "        \n",
    "        # if the best neighbor value is less than current node, stop searching\n",
    "        if best_neighbor_value < current_value:\n",
    "            break\n",
    "            \n",
    "        # if the best neighbor value is same, accept–have some patience, make sideway moves\n",
    "        elif best_neighbor_value == current_value:\n",
    "            no_improvement += 1\n",
    "            current = best_neighbor\n",
    "            current_value = best_neighbor_value\n",
    "        \n",
    "        # if the neighbor value is higher, accept\n",
    "        else:\n",
    "            no_improvement = 0\n",
    "            current = best_neighbor\n",
    "            current_value = best_neighbor_value\n",
    "        \n",
    "        if no_improvement >= n_sideway_moves:\n",
    "            break\n",
    "        \n",
    "    return current.state, current_value\n",
    "\n",
    "# Implemented Random Restarts\n",
    "def random_restarts_hill_climbing(problem, n_restarts=10):\n",
    "    \n",
    "    best_value = np.float(\"-inf\")\n",
    "    best_state = None\n",
    "        \n",
    "    for rand_state in problem.random_states(count=n_restarts):\n",
    "        \n",
    "        print \"Restart {}, \".format(rand_state),\n",
    "        \n",
    "        # restart from random initial state\n",
    "        state, value = hill_climbing(Node(rand_state), problem)\n",
    "        if value > best_value:\n",
    "            best_value = value\n",
    "            best_state = state\n",
    "            \n",
    "        print \"state = {}, value = {}\".format(state, value)\n",
    "        \n",
    "    return best_state, best_value   \n",
    "    "
   ]
  },
  {
   "cell_type": "code",
   "execution_count": 9,
   "metadata": {
    "collapsed": false,
    "deletable": true,
    "editable": true
   },
   "outputs": [
    {
     "data": {
      "text/plain": [
       "(array([1, 0, 1, 0, 1, 0, 1, 0, 1, 0]), 10)"
      ]
     },
     "execution_count": 9,
     "metadata": {},
     "output_type": "execute_result"
    }
   ],
   "source": [
    "problem = MaximizeAlternations(np.ones((10), dtype=np.int))\n",
    "hill_climbing(Node(problem.initial), problem, n_sideway_moves=100)"
   ]
  },
  {
   "cell_type": "code",
   "execution_count": 10,
   "metadata": {
    "collapsed": false
   },
   "outputs": [
    {
     "name": "stdout",
     "output_type": "stream",
     "text": [
      "Restart [0 0 1 1 1 1 1 0 0 1],  state = [1 0 1 0 1 0 1 0 1 0], value = 10\n",
      "Restart [0 1 1 0 1 1 1 1 1 0],  state = [1 0 1 0 1 0 1 0 1 0], value = 10\n",
      "Restart [1 1 0 1 1 0 0 0 1 0],  state = [0 1 0 1 0 1 0 1 0 1], value = 10\n",
      "Restart [1 1 0 0 0 0 1 0 0 0],  state = [0 1 0 1 0 1 0 1 0 1], value = 10\n",
      "Restart [1 1 1 1 0 0 1 0 0 0],  state = [1 0 1 0 1 0 1 0 1 0], value = 10\n",
      "Restart [0 1 1 0 1 1 0 1 0 0],  state = [1 0 1 0 1 0 1 0 1 0], value = 10\n",
      "Restart [1 1 1 1 1 1 1 0 1 0],  state = [0 1 0 1 0 1 0 1 0 1], value = 10\n",
      "Restart [1 1 0 1 1 1 0 1 0 0],  state = [0 1 0 1 0 1 0 1 0 1], value = 10\n",
      "Restart [1 0 0 1 1 0 0 0 0 1],  state = [0 1 0 1 0 1 0 1 0 1], value = 10\n",
      "Restart [1 0 1 1 1 1 1 0 0 0],  state = [0 1 0 1 0 1 0 1 0 1], value = 10\n"
     ]
    },
    {
     "data": {
      "text/plain": [
       "(array([1, 0, 1, 0, 1, 0, 1, 0, 1, 0]), 10)"
      ]
     },
     "execution_count": 10,
     "metadata": {},
     "output_type": "execute_result"
    }
   ],
   "source": [
    "random_restarts_hill_climbing(problem)"
   ]
  },
  {
   "cell_type": "code",
   "execution_count": 11,
   "metadata": {
    "collapsed": false,
    "deletable": true,
    "editable": true,
    "scrolled": true
   },
   "outputs": [
    {
     "data": {
      "text/plain": [
       "(array([1, 1, 1, 1, 1, 1, 1, 1, 1, 1]), 10)"
      ]
     },
     "execution_count": 11,
     "metadata": {},
     "output_type": "execute_result"
    }
   ],
   "source": [
    "problem = MaximizeOnes(np.zeros((10), dtype=np.int))\n",
    "hill_climbing(Node(problem.initial), problem)"
   ]
  },
  {
   "cell_type": "code",
   "execution_count": 12,
   "metadata": {
    "collapsed": false
   },
   "outputs": [
    {
     "name": "stdout",
     "output_type": "stream",
     "text": [
      "Restart [1 1 1 1 0 0 1 1 1 0],  state = [1 1 1 1 1 1 1 1 1 1], value = 10\n",
      "Restart [0 1 0 1 0 0 1 0 0 0],  state = [1 1 1 1 1 1 1 1 1 1], value = 10\n",
      "Restart [0 0 0 0 1 1 0 1 1 1],  state = [1 1 1 1 1 1 1 1 1 1], value = 10\n",
      "Restart [0 0 0 1 0 0 1 0 0 1],  state = [1 1 1 1 1 1 1 1 1 1], value = 10\n",
      "Restart [0 0 0 0 0 1 1 1 1 0],  state = [1 1 1 1 1 1 1 1 1 1], value = 10\n",
      "Restart [1 1 0 0 0 0 1 0 1 0],  state = [1 1 1 1 1 1 1 1 1 1], value = 10\n",
      "Restart [0 0 1 0 0 0 0 1 0 0],  state = [1 1 1 1 1 1 1 1 1 1], value = 10\n",
      "Restart [0 0 1 0 1 1 1 1 1 0],  state = [1 1 1 1 1 1 1 1 1 1], value = 10\n",
      "Restart [1 0 0 0 1 1 1 0 0 0],  state = [1 1 1 1 1 1 1 1 1 1], value = 10\n",
      "Restart [0 0 0 1 0 1 1 1 1 0],  state = [1 1 1 1 1 1 1 1 1 1], value = 10\n"
     ]
    },
    {
     "data": {
      "text/plain": [
       "(array([1, 1, 1, 1, 1, 1, 1, 1, 1, 1]), 10)"
      ]
     },
     "execution_count": 12,
     "metadata": {},
     "output_type": "execute_result"
    }
   ],
   "source": [
    "random_restarts_hill_climbing(problem)"
   ]
  },
  {
   "cell_type": "markdown",
   "metadata": {},
   "source": [
    "## Simulated Annealing"
   ]
  },
  {
   "cell_type": "code",
   "execution_count": 13,
   "metadata": {
    "collapsed": false,
    "deletable": true,
    "editable": true
   },
   "outputs": [],
   "source": [
    "# Adapted from: AIMA python repository.\n",
    "def exp_schedule(k=0.5, lam=0.005, limit=100):\n",
    "    \"One possible schedule function for simulated annealing\"\n",
    "    return lambda t: (k * math.exp(-lam * t) if t < limit else 0)\n",
    "\n",
    "def simulated_annealing(problem, schedule=exp_schedule()):\n",
    "    \"[Figure 4.5]\"\n",
    "    current_node = Node(problem.initial)\n",
    "    for t in xrange(sys.maxsize):\n",
    "        T = schedule(t)\n",
    "        if T == 0:\n",
    "            return current_node.state, problem.value(current_node.state)\n",
    "        neighbors = current_node.expand(problem)\n",
    "        if not neighbors:\n",
    "            return current_node.state, problem.value(current_node.state)\n",
    "        next_node = random.choice(neighbors)\n",
    "        delta_e = problem.value(next_node.state) - problem.value(current_node.state)\n",
    "        if delta_e > 0 or probability(math.exp(delta_e / T)):\n",
    "            current_node = next_node"
   ]
  },
  {
   "cell_type": "code",
   "execution_count": 14,
   "metadata": {
    "collapsed": false,
    "deletable": true,
    "editable": true
   },
   "outputs": [
    {
     "data": {
      "text/plain": [
       "(array([1, 1, 1, 1, 1, 1, 1, 1, 1, 1]), 10)"
      ]
     },
     "execution_count": 14,
     "metadata": {},
     "output_type": "execute_result"
    }
   ],
   "source": [
    "problem = MaximizeOnes(np.random.randint(0,2,10))\n",
    "simulated_annealing(problem)"
   ]
  },
  {
   "cell_type": "code",
   "execution_count": 15,
   "metadata": {
    "collapsed": false,
    "deletable": true,
    "editable": true
   },
   "outputs": [
    {
     "data": {
      "text/plain": [
       "(array([1, 0, 1, 0, 1, 0, 0, 1, 0, 1]), 9)"
      ]
     },
     "execution_count": 15,
     "metadata": {},
     "output_type": "execute_result"
    }
   ],
   "source": [
    "problem = MaximizeAlternations(np.random.randint(0,2,10))\n",
    "simulated_annealing(problem)"
   ]
  },
  {
   "cell_type": "code",
   "execution_count": null,
   "metadata": {
    "collapsed": true
   },
   "outputs": [],
   "source": []
  },
  {
   "cell_type": "markdown",
   "metadata": {},
   "source": [
    "## Genetic Algorithms"
   ]
  },
  {
   "cell_type": "code",
   "execution_count": 16,
   "metadata": {
    "collapsed": true,
    "deletable": true,
    "editable": true
   },
   "outputs": [],
   "source": [
    "# Adapted from: AIMA python repository.\n",
    "\n",
    "def mate(p1, p2, crossover=0.5):\n",
    "    \"Return a new individual crossing self and other.\"\n",
    "    if crossover is None:\n",
    "        c = random.randrange(len(p1)) # crossover point\n",
    "    else:\n",
    "        c = int(len(p1)*crossover)\n",
    "        \n",
    "    return np.hstack((p1[:c], p2[c:]))\n",
    "\n",
    "def mutate(child):\n",
    "    \n",
    "    for gene_id in [random.randrange(len(child)) for i in range(random.randrange(len(child)))]:\n",
    "        child[gene_id] ^= 1    \n",
    "    return child\n",
    "\n",
    "def genetic_algorithm(population, fitness_fn, ngen=1000, pmut=0.1):\n",
    "    \"[Figure 4.8]\"\n",
    "    \n",
    "    for i in range(ngen):\n",
    "        new_population = []\n",
    "        for i in range(len(population)):\n",
    "            fitnesses = map(fitness_fn, population)\n",
    "            p1, p2 = weighted_sample_with_replacement(population, fitnesses, 2)\n",
    "            child = mate(p1, p2)\n",
    "            if random.uniform(0, 1) < pmut:\n",
    "                child = mutate(child)\n",
    "            new_population.append(child)\n",
    "        population = new_population\n",
    "    \n",
    "    best_chromosome = argmax(population, key=fitness_fn)\n",
    "    return best_chromosome, fitness_fn(best_chromosome)\n",
    "    \n",
    "def genetic_search(problem, ngen=100, pmut=0.1, k=20):\n",
    "    \"\"\"\n",
    "    Call genetic_algorithm on the appropriate parts of a problem.\n",
    "    This requires the problem to have states that can mate and mutate,\n",
    "    plus a value method that scores states.\"\"\"\n",
    "    parent = problem.initial\n",
    "    alterations = problem.actions(parent)\n",
    "    \n",
    "    chromosomes = [problem.result(parent, random.choice(alterations)) for i in range(k)]\n",
    "    \n",
    "    return genetic_algorithm(chromosomes, problem.value, ngen, pmut)"
   ]
  },
  {
   "cell_type": "code",
   "execution_count": 17,
   "metadata": {
    "collapsed": false,
    "deletable": true,
    "editable": true
   },
   "outputs": [
    {
     "data": {
      "text/plain": [
       "(array([0, 1, 0, 1, 0, 0, 1, 0, 1, 0]), 9)"
      ]
     },
     "execution_count": 17,
     "metadata": {},
     "output_type": "execute_result"
    }
   ],
   "source": [
    "problem = MaximizeAlternations(np.zeros(10, dtype=np.int))\n",
    "genetic_search(problem, ngen=50, pmut=0.2, k =50)"
   ]
  },
  {
   "cell_type": "code",
   "execution_count": 18,
   "metadata": {
    "collapsed": false,
    "deletable": true,
    "editable": true
   },
   "outputs": [
    {
     "data": {
      "text/plain": [
       "(array([1, 1, 1, 1, 1, 1, 1, 1, 1, 1]), 10)"
      ]
     },
     "execution_count": 18,
     "metadata": {},
     "output_type": "execute_result"
    }
   ],
   "source": [
    "problem = MaximizeOnes(np.zeros(10, dtype=np.int))\n",
    "genetic_search(problem, pmut=0.2, ngen=50, k=50)"
   ]
  },
  {
   "cell_type": "code",
   "execution_count": null,
   "metadata": {
    "collapsed": true,
    "deletable": true,
    "editable": true
   },
   "outputs": [],
   "source": []
  },
  {
   "cell_type": "code",
   "execution_count": null,
   "metadata": {
    "collapsed": false,
    "deletable": true,
    "editable": true
   },
   "outputs": [],
   "source": []
  },
  {
   "cell_type": "code",
   "execution_count": 19,
   "metadata": {
    "collapsed": true,
    "deletable": true,
    "editable": true
   },
   "outputs": [],
   "source": [
    "# Much efficient alternative from Silviu which uses deap (Distributed Evolutionary Algorithms in Python) framework \n",
    "# for GA. Copied from: https://gist.github.com/spitis/dd5b71bd2d694c0f8e47185b3c5bbd0c.\n",
    "\n",
    "from deap import base, creator, tools, algorithms\n",
    "\n",
    "creator.create(\"FitnessMax\", base.Fitness, weights=(1.0,))\n",
    "creator.create(\"Individual\", list, fitness=creator.FitnessMax)\n",
    "\n",
    "def ga(stringlen, evalfn, pop=50, cxpb=0.5, mutpb=0.2, patience=10):\n",
    "    toolbox = base.Toolbox()\n",
    "    toolbox.register(\"attr_bool\", random.randint, 0, 1)\n",
    "    toolbox.register(\"individual\", tools.initRepeat, creator.Individual, toolbox.attr_bool, n=stringlen)\n",
    "    toolbox.register(\"population\", tools.initRepeat, list, toolbox.individual)\n",
    "       \n",
    "    def evalReturningTuple(x):\n",
    "        return (evalfn(x),)\n",
    "    \n",
    "    toolbox.register(\"evaluate\", evalReturningTuple)\n",
    "    toolbox.register(\"mate\", tools.cxTwoPoint)\n",
    "    toolbox.register(\"mutate\", tools.mutFlipBit, indpb=0.10)\n",
    "    toolbox.register(\"select\", tools.selTournament, tournsize=3)\n",
    "    \n",
    "    def run_5_gens(pop, hof):\n",
    "        if pop is None:\n",
    "            pop = toolbox.population(n=50)\n",
    "        if hof is None:\n",
    "            hof = tools.HallOfFame(1)\n",
    "        stats = tools.Statistics(lambda ind: ind.fitness.values)\n",
    "        stats.register(\"avg\", np.mean)\n",
    "        stats.register(\"min\", np.min)\n",
    "        stats.register(\"max\", np.max)\n",
    "\n",
    "        pop, logbook = algorithms.eaSimple(pop, toolbox, cxpb=0.5, mutpb=0.2, ngen=10, stats=stats, halloffame=hof, verbose=False)\n",
    "\n",
    "        return pop, hof\n",
    "    \n",
    "    no_improvement = 0\n",
    "    best_fitness = float('-inf')\n",
    "    pop, hof = None, None\n",
    "    while True:\n",
    "        pop, hof = run_5_gens(pop, hof)\n",
    "        fitness = hof[0].fitness.values[0]\n",
    "        if fitness > best_fitness:\n",
    "            best_fitness = fitness\n",
    "            no_improvement = 0\n",
    "        else:\n",
    "            no_improvement += 1\n",
    "            \n",
    "        if no_improvement >= patience:\n",
    "            break\n",
    "    return hof[0], hof[0].fitness.values[0]"
   ]
  },
  {
   "cell_type": "code",
   "execution_count": 20,
   "metadata": {
    "collapsed": false,
    "deletable": true,
    "editable": true
   },
   "outputs": [
    {
     "data": {
      "text/plain": [
       "([1, 1, 1, 1, 1, 1, 1, 1, 1, 1, 1, 1, 1, 1, 1, 1, 1, 1, 1, 1], 20.0)"
      ]
     },
     "execution_count": 20,
     "metadata": {},
     "output_type": "execute_result"
    }
   ],
   "source": [
    "ga(20, sum)"
   ]
  },
  {
   "cell_type": "code",
   "execution_count": 21,
   "metadata": {
    "collapsed": false,
    "deletable": true,
    "editable": true
   },
   "outputs": [
    {
     "data": {
      "text/plain": [
       "([1, 0, 1, 0, 1, 0, 1, 0, 1, 0, 1, 0, 1, 0, 1, 0, 1, 0, 1, 0], 20.0)"
      ]
     },
     "execution_count": 21,
     "metadata": {},
     "output_type": "execute_result"
    }
   ],
   "source": [
    "ga(20, lambda x: sum([x[i] != x[i+1] for i in range(len(x)-1)])+1)"
   ]
  },
  {
   "cell_type": "code",
   "execution_count": 22,
   "metadata": {
    "collapsed": false,
    "deletable": true,
    "editable": true
   },
   "outputs": [],
   "source": [
    "# Copied from Silviu's MIMIC implementation: https://gist.github.com/spitis/dd5b71bd2d694c0f8e47185b3c5bbd0c\n",
    "import tensorflow as tf, numpy as np\n",
    "def mimic(stringlen, evalfn, latentlen = 100, num_samples = 100, samples_to_keep = 50, patience=20):\n",
    "    batchsize = tf.placeholder(tf.int32)\n",
    "    r = tf.random_uniform([batchsize, latentlen])\n",
    "    logits = tf.layers.dense(r, stringlen)\n",
    "    labels = tf.placeholder(tf.float32, shape=[None, stringlen])\n",
    "    loss = tf.nn.sigmoid_cross_entropy_with_logits(labels=labels, logits=logits)\n",
    "    generated_samples = tf.floor(tf.nn.sigmoid(logits) + tf.random_uniform([batchsize, stringlen]))\n",
    "    train_step = tf.train.GradientDescentOptimizer(0.01).minimize(loss)\n",
    "    sess = tf.Session()\n",
    "    sess.run(tf.global_variables_initializer())\n",
    "    \n",
    "    best_fitness = float('-inf')\n",
    "    bitstring = None\n",
    "    no_improvement = 0\n",
    "    while True: \n",
    "        samples = sess.run(generated_samples, feed_dict={batchsize: num_samples})\n",
    "        fitnesses = np.array(list(map(evalfn, samples)))\n",
    "        sorted_fitnesses = np.argsort(fitnesses)\n",
    "        kept_samples = samples[sorted_fitnesses][-samples_to_keep:]\n",
    "        fitness = evalfn(kept_samples[-1])\n",
    "        \n",
    "        if fitness > best_fitness:\n",
    "            bitstring = kept_samples[-1]\n",
    "            best_fitness = fitness\n",
    "            no_improvement = -1            \n",
    "        \n",
    "        no_improvement += 1    \n",
    "        \n",
    "        if no_improvement >= patience:\n",
    "            break\n",
    "            \n",
    "        sess.run(train_step, feed_dict={batchsize: samples_to_keep, labels: kept_samples})\n",
    "    \n",
    "    sess.close()\n",
    "    return bitstring, best_fitness"
   ]
  },
  {
   "cell_type": "code",
   "execution_count": 23,
   "metadata": {
    "collapsed": false,
    "deletable": true,
    "editable": true
   },
   "outputs": [
    {
     "data": {
      "text/plain": [
       "(array([ 1.,  1.,  1.,  1.,  1.,  1.,  1.,  1.,  1.,  1.,  1.,  1.,  1.,\n",
       "         1.,  1.,  1.,  1.,  1.,  1.,  1.], dtype=float32), 20.0)"
      ]
     },
     "execution_count": 23,
     "metadata": {},
     "output_type": "execute_result"
    }
   ],
   "source": [
    "mimic(20, sum)"
   ]
  },
  {
   "cell_type": "code",
   "execution_count": null,
   "metadata": {
    "collapsed": true
   },
   "outputs": [],
   "source": []
  }
 ],
 "metadata": {
  "kernelspec": {
   "display_name": "Python 2",
   "language": "python",
   "name": "python2"
  },
  "language_info": {
   "codemirror_mode": {
    "name": "ipython",
    "version": 2
   },
   "file_extension": ".py",
   "mimetype": "text/x-python",
   "name": "python",
   "nbconvert_exporter": "python",
   "pygments_lexer": "ipython2",
   "version": "2.7.11"
  }
 },
 "nbformat": 4,
 "nbformat_minor": 2
}
