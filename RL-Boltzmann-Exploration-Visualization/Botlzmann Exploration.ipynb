{
 "cells": [
  {
   "cell_type": "code",
   "execution_count": 1,
   "metadata": {},
   "outputs": [
    {
     "name": "stdout",
     "output_type": "stream",
     "text": [
      "Warning: OpenAI gym not installed.\n"
     ]
    }
   ],
   "source": [
    "# Other Imports.\n",
    "from simple_rl.tasks import NavigationWorldMDP\n",
    "from simple_rl.agents import QLearningAgent\n",
    "from simple_rl.planning import ValueIteration\n",
    "from simple_rl.tasks.grid_world.GridWorldStateClass import GridWorldState\n",
    "from simple_rl.tasks.navigation.NavigationStateClass import NavigationWorldState\n",
    "\n",
    "# Python Imports.\n",
    "import numpy as np\n",
    "import matplotlib.pyplot as plt\n",
    "\n",
    "%matplotlib inline\n",
    "%load_ext autoreload\n",
    "%autoreload 2"
   ]
  },
  {
   "cell_type": "code",
   "execution_count": 2,
   "metadata": {},
   "outputs": [],
   "source": [
    "# Visualization functions \n",
    "import io\n",
    "import imageio\n",
    "from PIL import Image\n",
    "from IPython import display\n",
    "\n",
    "def read_pil_image_from_plt(plt):\n",
    "    buf = io.BytesIO()\n",
    "    plt.savefig(buf, format='png')\n",
    "    buf.seek(0)\n",
    "    return Image.open(buf)\n",
    "\n",
    "def create_gif(img_generator, cmap=plt.cm.viridis, gif_name=\"./__gif_sample.gif\", fps=10,\n",
    "               figsize=(4, 4), title=None, display=False):\n",
    "    with imageio.get_writer(gif_name, mode='I', fps=fps) as writer:\n",
    "        for img in img_generator():\n",
    "            # Append to GIF\n",
    "            writer.append_data(np.array(img))\n",
    "            \n",
    "            # Wait to draw - only for online visualization\n",
    "            if display:\n",
    "                plt.imshow(img)\n",
    "                display.clear_output(wait=True)\n",
    "                display.display(plt.gcf())\n",
    "        plt.clf()\n",
    "    return\n",
    "\n",
    "def trajetory_visualization(traj, nvmdp, Vg, steps=1000, figsize=(10,10)):\n",
    "    \n",
    "    N = min(steps, len(traj))  if steps else len(traj)\n",
    "    for i in range(0, N):\n",
    "        \n",
    "        plt.close('all')\n",
    "        plt.figure(figsize=figsize)\n",
    "        \n",
    "        nvmdp.visualize_grid(\n",
    "            trajectories=[traj[:i+1]], show_colorbar=True, show_rewards_colorbar=True, goal_marker=\"*c\", \n",
    "            new_fig=False, state_space_cmap=True, title=\"MDP\", subplot_str=\"211\", \n",
    "            end_marker=\"xk\", traj_marker=\"-k\")\n",
    "        nvmdp.visualize_grid(\n",
    "            Vg , trajectories=[traj[:i+1]], show_colorbar=True, show_rewards_colorbar=False, goal_marker=\"*c\", \n",
    "            new_fig=False, state_space_cmap=False, title=\"Value\", subplot_str=\"212\",\n",
    "            init_marker=\"go\", init_marker_sz=20, end_marker=\"ro\", traj_marker=\"-c\", end_marker_sz=20, cmap=\"gray\")\n",
    "        yield read_pil_image_from_plt(plt)\n",
    "        plt.clf()\n",
    "\n",
    "\n",
    "def trajetory_list_visualization(traj_list, Vg_list, titles, nvmdp, max_steps=200, figsize=(10,10)):\n",
    "    \n",
    "    N = min(max([len(traj) for traj in traj_list]), max_steps)\n",
    "    n_plots = len(traj_list)\n",
    "    n_rows = int(np.ceil(np.sqrt(n_plots)))\n",
    "    n_cols = int(np.ceil(n_plots / n_rows))\n",
    "    for i in range(0, N):\n",
    "        plt.close('all')\n",
    "        plt.figure(figsize=figsize)\n",
    "        for j, traj in enumerate(traj_list):\n",
    "            nvmdp.visualize_grid(\n",
    "                Vg_list[j], trajectories=[traj[:i+1]], show_colorbar=True, show_rewards_colorbar=False, \n",
    "                goal_marker=\"*c\", new_fig=False, state_space_cmap=False, title=titles[j], subplot_str=\"{}{}{}\".format(n_rows, n_cols, j+1),\n",
    "                init_marker=\"go\", init_marker_sz=20, end_marker=\"ro\", traj_marker=\"-c\", end_marker_sz=20)\n",
    "        yield read_pil_image_from_plt(plt)\n",
    "        plt.clf()\n",
    "        \n",
    "from matplotlib import colors as mcolors\n",
    "\n",
    "colors = dict(mcolors.BASE_COLORS, **mcolors.CSS4_COLORS)\n",
    "color_names = list(colors.keys())"
   ]
  },
  {
   "cell_type": "markdown",
   "metadata": {},
   "source": [
    "## MDP"
   ]
  },
  {
   "cell_type": "code",
   "execution_count": 3,
   "metadata": {},
   "outputs": [
    {
     "data": {
      "image/png": "[encoded data removed]",
      "text/plain": [
       "<Figure size 720x720 with 2 Axes>"
      ]
     },
     "metadata": {
      "needs_background": "light"
     },
     "output_type": "display_data"
    }
   ],
   "source": [
    "np.random.seed(0)\n",
    "puddle = lambda x, y, w, h: [(x+i, y+j) for j in range(h) for i in range(w)]\n",
    "c1, c2, g1, c_wall = (np.array([0, 0, 1., -5]) - 0) / 1.\n",
    "\n",
    "def get_navmdp(noise):\n",
    "    \n",
    "    return NavigationWorldMDP(\n",
    "        # MDP params\n",
    "        width=15, height=7, \n",
    "        slip_prob=noise, step_cost=0.001, gamma=.99,\n",
    "        # navigation cells\n",
    "        nav_cell_types=['white', 'yellow', 'red'],\n",
    "        nav_cell_rewards=[c1, c2, c_wall],\n",
    "        nav_cell_p_or_locs=[0.5, 0.5, puddle(5,2,3,2) + puddle(11,2,3,2)],\n",
    "        # goals\n",
    "        goal_cell_locs=[[(15,1)]],\n",
    "        goal_cell_rewards=[g1],\n",
    "        goal_cell_types=[\"green\"])\n",
    "\n",
    "noise = 0.0\n",
    "nvmdp = get_navmdp(noise=noise)\n",
    "plt.figure(figsize=(10,10))\n",
    "nvmdp.visualize_grid(new_fig=False, show_colorbar=True, show_rewards_colorbar=True, goal_marker=\"\")"
   ]
  },
  {
   "cell_type": "code",
   "execution_count": 4,
   "metadata": {},
   "outputs": [],
   "source": [
    "S = nvmdp.get_all_states()\n",
    "s_to_idx = {(s[0],s[1]): idx for idx, s in enumerate(S)}\n",
    "A = nvmdp.get_actions()\n",
    "# r_min, r_max = -1, -0.01\n",
    "# R_normal = [max(min(np.random.normal(-(r_max-r_min)/2., 0.01), r_max), r_min) for s in S]\n",
    "# R_normal_fn = lambda s,a: R_normal[s_to_idx[tuple(s)]]\n",
    "R_mdp = nvmdp.reward_func\n",
    "R = R_mdp\n",
    "\n",
    "T = nvmdp.transition_func\n",
    "goal_idxs = [s_to_idx[p] for l in nvmdp.goal_cell_locs for p in l]\n",
    "goal_rewards = nvmdp.goal_cell_rewards\n",
    "pi_boltz = lambda Q, t: np.exp((1/t)*Q) / (np.exp((1/t)*Q).sum())\n",
    "pi_greedy = lambda Q: np.eye(len(Q))[np.argmax(Q)]\n",
    "pi_star = lambda s, Pi: np.random.choice(nvmdp.actions, p=Pi[s_to_idx[tuple(s)]])\n",
    "pi_greedy_act = lambda s, Pi: nvmdp.actions[Pi[s_to_idx[tuple(s)]].argmax()]"
   ]
  },
  {
   "cell_type": "markdown",
   "metadata": {},
   "source": [
    "## Value Iteration"
   ]
  },
  {
   "cell_type": "code",
   "execution_count": 5,
   "metadata": {},
   "outputs": [],
   "source": [
    "def value_iter(S, A, R, T, gamma, policy, max_iters, eps=1e-9, given_goal_idxs=None, given_goal_rewards=[]):\n",
    "     \n",
    "    nS, nA = len(S), len(A)\n",
    "    V = np.zeros((nS))\n",
    "    Q = np.zeros((nS, nA))\n",
    "    Pi = np.ones((nS, nA)) / nA\n",
    "    s_to_idx = {(s[0],s[1]): idx for idx, s in enumerate(S)}\n",
    "    \n",
    "    if given_goal_idxs: # This isn't necessary when R is given\n",
    "        for i, goal_idx in enumerate(given_goal_idxs):\n",
    "            V[goal_idx] = 0\n",
    "            \n",
    "    for _iter in range(max_iters):\n",
    "        \n",
    "        V_copy = V.copy()\n",
    "        for si, s in enumerate(S):\n",
    "            if (goal_idxs and si in goal_idxs) or s.is_terminal():\n",
    "                continue\n",
    "            for ai, a in enumerate(A):\n",
    "                s_prime_idx = s_to_idx[tuple(T(s,a))]\n",
    "                Q[si,ai] = R(s,a) + gamma * V[s_prime_idx]\n",
    "            Pi[si] = policy(Q[si,:])\n",
    "            V[si] = Pi[si].dot(Q[si,:])\n",
    "            \n",
    "        if np.max(np.abs(V-V_copy)) <= eps:\n",
    "            print(\"Converged at \", _iter)\n",
    "            break\n",
    "            \n",
    "    return V, Pi, Q\n",
    "\n",
    "def get_value_grid(V_array, nvmdp, s_to_idx):\n",
    "    \"\"\"Returns value over states space grid.\n",
    "    \"\"\"\n",
    "    V = np.zeros((nvmdp.height, nvmdp.width), dtype=np.float32)\n",
    "    for row in range(nvmdp.height):\n",
    "        for col in range(nvmdp.width):\n",
    "            x, y = nvmdp._rowcol_to_xy(row, col)\n",
    "            si = s_to_idx[(x, y)]\n",
    "            if si is not None:\n",
    "                V[row, col] = V_array[si]\n",
    "    return V"
   ]
  },
  {
   "cell_type": "markdown",
   "metadata": {},
   "source": [
    "## Effects of boltzmann temperature & gamma"
   ]
  },
  {
   "cell_type": "code",
   "execution_count": 6,
   "metadata": {},
   "outputs": [],
   "source": [
    "max_iters = 1000\n",
    "eps = 1e-9\n",
    "# pi_expl = pi_greedy\n",
    "# pi_rollout = pi_greedy_act\n",
    "pi_rollout = pi_star\n",
    "n_traj = 1"
   ]
  },
  {
   "cell_type": "code",
   "execution_count": 7,
   "metadata": {},
   "outputs": [
    {
     "name": "stdout",
     "output_type": "stream",
     "text": [
      "Running VI: Temp 0.01, Gamma 0.7\n",
      "Converged at  29\n",
      "\n",
      "Running VI: Temp 0.01, Gamma 0.99\n",
      "Converged at  44\n",
      "\n",
      "Running VI: Temp 10, Gamma 0.7\n",
      "Converged at  37\n",
      "\n",
      "Running VI: Temp 10, Gamma 0.99\n",
      "Converged at  929\n",
      "\n"
     ]
    }
   ],
   "source": [
    "exp_params = {\"temp\": [0.01, 10], \n",
    "              \"gamma\": [0.70, 0.99]}\n",
    "V_list = []\n",
    "Tau_list = []\n",
    "titles = []\n",
    "Pi_list = []\n",
    "\n",
    "for temp in exp_params[\"temp\"]:\n",
    "    for gamma in exp_params[\"gamma\"]:\n",
    "        \n",
    "        pi_expl = lambda Q: pi_boltz(Q, temp)\n",
    "        print(\"Running VI: Temp {}, Gamma {}\".format(temp, gamma))\n",
    "        v, Pi, Q = value_iter(S, A, R, T, gamma, pi_expl, max_iters, eps, goal_idxs, goal_rewards)\n",
    "        V = get_value_grid(v, nvmdp, s_to_idx)\n",
    "        \n",
    "        tau = nvmdp.sample_trajectories(\n",
    "            n_traj, 1000, init_states=[(1,1)]*n_traj, init_cell_types=[\"white\"], \n",
    "            init_unique=False, rand_init_to_match_n_traj=False, \n",
    "            policy=lambda s: pi_rollout(s, Pi))\n",
    "        \n",
    "        V_list.append(V)\n",
    "        Pi_list.append(Pi)\n",
    "        titles.append(\"Temp: {}, Gamma: {}\".format(temp, gamma))\n",
    "        Tau_list.append(tau[0][0])\n",
    "        print(\"\")"
   ]
  },
  {
   "cell_type": "markdown",
   "metadata": {},
   "source": [
    "### Exploration"
   ]
  },
  {
   "cell_type": "code",
   "execution_count": 8,
   "metadata": {},
   "outputs": [
    {
     "data": {
      "text/plain": [
       "<Figure size 1440x720 with 0 Axes>"
      ]
     },
     "metadata": {},
     "output_type": "display_data"
    }
   ],
   "source": [
    "create_gif(lambda: trajetory_list_visualization(Tau_list, V_list, titles, nvmdp, max_steps=200, figsize=(20,10)),\n",
    "           figsize=(40,10), fps=10, cmap=None, gif_name=\"./__gif_boltzmann_temp_gamma_effects_exploration.gif\")"
   ]
  },
  {
   "cell_type": "markdown",
   "metadata": {},
   "source": [
    "<img src=\"./__gif_boltzmann_temp_gamma_effects_exploration.gif\">"
   ]
  },
  {
   "cell_type": "markdown",
   "metadata": {},
   "source": [
    "### Greedy exploitation"
   ]
  },
  {
   "cell_type": "code",
   "execution_count": 9,
   "metadata": {},
   "outputs": [],
   "source": [
    "pi_rollout = pi_greedy_act\n",
    "Tau_list = []\n",
    "for Pi in Pi_list:\n",
    "        tau = nvmdp.sample_trajectories(\n",
    "            n_traj, 1000, init_states=[(1,1)]*n_traj, init_cell_types=[\"white\"], \n",
    "            init_unique=False, rand_init_to_match_n_traj=False, \n",
    "            policy=lambda s: pi_rollout(s, Pi))        \n",
    "        Tau_list.append(tau[0][0])"
   ]
  },
  {
   "cell_type": "code",
   "execution_count": null,
   "metadata": {},
   "outputs": [],
   "source": [
    "create_gif(lambda: trajetory_list_visualization(Tau_list, V_list, titles, nvmdp, max_steps=200, figsize=(20,10)),\n",
    "           figsize=(40,10), fps=10, cmap=None, gif_name=\"./__gif_boltzmann_temp_gamma_effects_exploitation.gif\")"
   ]
  },
  {
   "cell_type": "markdown",
   "metadata": {},
   "source": [
    "<img src=\"./__gif_boltzmann_temp_gamma_effects_exploitation.gif\">"
   ]
  }
 ],
 "metadata": {
  "kernelspec": {
   "display_name": "irl_python3",
   "language": "python",
   "name": "irl_python3"
  },
  "language_info": {
   "codemirror_mode": {
    "name": "ipython",
    "version": 3
   },
   "file_extension": ".py",
   "mimetype": "text/x-python",
   "name": "python",
   "nbconvert_exporter": "python",
   "pygments_lexer": "ipython3",
   "version": "3.6.1"
  }
 },
 "nbformat": 4,
 "nbformat_minor": 2
}
